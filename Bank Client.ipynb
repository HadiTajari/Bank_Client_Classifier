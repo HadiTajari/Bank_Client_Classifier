{
 "cells": [
  {
   "cell_type": "markdown",
   "id": "1088d875",
   "metadata": {},
   "source": [
    "# دسته بندی رفتار مشتریان بانک"
   ]
  },
  {
   "cell_type": "markdown",
   "id": "163b4b77",
   "metadata": {},
   "source": [
    "### هدف این هستش با توجه به داده های گذشته بانک که مربوط به رفتار مشتریان و ویژگی های آنان در پرداخت وام است، مدلی برای بانک ساخته بشه.\n",
    "### بانک ویژگی های رفتاری مشتریان رو ازشون بگیره و بده به مدل و مدل به  بانک در تصمیم گیری برای پرداخت وام به مشتری جدید کمک شایانی انجام بده"
   ]
  },
  {
   "cell_type": "code",
   "execution_count": null,
   "id": "fc1dc493",
   "metadata": {},
   "outputs": [],
   "source": [
    "# دانلود دیتا ست"
   ]
  },
  {
   "cell_type": "code",
   "execution_count": null,
   "id": "77a46f8e",
   "metadata": {},
   "outputs": [],
   "source": [
    "!wget https://archive.ics.uci.edu/ml/machine-learning-databases/00222/bank-additional.zip"
   ]
  },
  {
   "cell_type": "code",
   "execution_count": null,
   "id": "42beae4d",
   "metadata": {},
   "outputs": [],
   "source": [
    "!unzip -o -q bank-additional.zip"
   ]
  },
  {
   "cell_type": "code",
   "execution_count": null,
   "id": "41c778e6",
   "metadata": {},
   "outputs": [],
   "source": [
    "import pandas as pd\n",
    "import numpy as np\n",
    "import matplotlib.pylab as plt\n",
    "import seaborn as sns\n",
    "%matplotlib inline\n",
    "plt.rcParams[\"figure.figsize\"] = (8,6)\n",
    "#Data transformation\n",
    "from sklearn.preprocessing import LabelEncoder , OneHotEncoder , OrdinalEncoder\n",
    "from sklearn.preprocessing import MinMaxScaler\n",
    "# Feature selection\n",
    "from sklearn.feature_selection import SelectKBest\n",
    "from sklearn.feature_selection import chi2, mutual_info_classif\n",
    "#Classificators\n",
    "from sklearn.model_selection import train_test_split\n",
    "from sklearn.tree import DecisionTreeClassifier\n",
    "from sklearn import tree\n",
    "from sklearn.linear_model import LogisticRegression\n",
    "from sklearn.ensemble import ExtraTreesClassifier\n",
    "from sklearn.metrics import accuracy_score\n",
    "# warnings deactivate\n",
    "import warnings\n",
    "warnings.filterwarnings('ignore')\n"
   ]
  },
  {
   "cell_type": "code",
   "execution_count": null,
   "id": "edbe22df",
   "metadata": {
    "scrolled": true
   },
   "outputs": [],
   "source": [
    "# وارد کردن دیتاست و انجام مراحل ابتدایی"
   ]
  },
  {
   "cell_type": "code",
   "execution_count": null,
   "id": "c6144112",
   "metadata": {},
   "outputs": [],
   "source": [
    "df = pd.read_csv(\"bank-additional/bank-additional-full.csv\", sep=\";\")"
   ]
  },
  {
   "cell_type": "code",
   "execution_count": null,
   "id": "84fc63d5",
   "metadata": {},
   "outputs": [],
   "source": [
    "df.head()"
   ]
  },
  {
   "cell_type": "code",
   "execution_count": null,
   "id": "699fdcb4",
   "metadata": {},
   "outputs": [],
   "source": [
    "df.shape"
   ]
  },
  {
   "cell_type": "code",
   "execution_count": null,
   "id": "4c1a46e4",
   "metadata": {},
   "outputs": [],
   "source": [
    "df.info()"
   ]
  },
  {
   "cell_type": "code",
   "execution_count": null,
   "id": "87620e71",
   "metadata": {},
   "outputs": [],
   "source": [
    "# شناسایی متغیرهای که آبجکت هستند ولی  باید کتگوریکال باشند\n",
    "col_cat = df.select_dtypes(\"O\").columns"
   ]
  },
  {
   "cell_type": "code",
   "execution_count": null,
   "id": "a4b5ba7b",
   "metadata": {},
   "outputs": [],
   "source": [
    "col_cat.shape"
   ]
  },
  {
   "cell_type": "code",
   "execution_count": null,
   "id": "b7199805",
   "metadata": {},
   "outputs": [],
   "source": [
    "# واسه این کار اول شناساییشون میکنیم، میبینیم که 11 متغیر داریم که باید کتگوریکال بشن\n",
    "# حالا باید تایپشون رو به کتگوری تغییر میدیم"
   ]
  },
  {
   "cell_type": "code",
   "execution_count": null,
   "id": "9449c6c7",
   "metadata": {},
   "outputs": [],
   "source": [
    "df.loc[:,col_cat] = df[col_cat].astype(\"category\")"
   ]
  },
  {
   "cell_type": "code",
   "execution_count": null,
   "id": "eecd43bf",
   "metadata": {},
   "outputs": [],
   "source": [
    "df.info()"
   ]
  },
  {
   "cell_type": "code",
   "execution_count": null,
   "id": "c4d9b61f",
   "metadata": {},
   "outputs": [],
   "source": [
    "# حالا میتونیم ببینیم که تایپشون تغییر پیدا کرده"
   ]
  },
  {
   "cell_type": "code",
   "execution_count": null,
   "id": "74c6d2a6",
   "metadata": {},
   "outputs": [],
   "source": [
    "# همچنین میبینم که وقتی از یه ستون یونیک میگیریم زیرش مینویسه که چند دسته شده\n",
    "# مثلا اینجا گفته که شغل 12 ردیف دسته بندی شده"
   ]
  },
  {
   "cell_type": "code",
   "execution_count": null,
   "id": "1d061f86",
   "metadata": {},
   "outputs": [],
   "source": [
    "df['job'].unique()"
   ]
  },
  {
   "cell_type": "code",
   "execution_count": null,
   "id": "9fb001ba",
   "metadata": {},
   "outputs": [],
   "source": [
    "df['job'].value_counts()"
   ]
  },
  {
   "cell_type": "code",
   "execution_count": null,
   "id": "ac0fdf0a",
   "metadata": {},
   "outputs": [],
   "source": [
    "# خب وای متغیر هدف ماست و میخاهیم ببینیم بر اساس داده های گذشته به کیا میتونیم وام بدیم و به کیا نباید وام بدیم "
   ]
  },
  {
   "cell_type": "code",
   "execution_count": null,
   "id": "448c39f1",
   "metadata": {},
   "outputs": [],
   "source": [
    "df.y.value_counts()"
   ]
  },
  {
   "cell_type": "code",
   "execution_count": null,
   "id": "e81491ab",
   "metadata": {},
   "outputs": [],
   "source": [
    "# خب حالا برای اینکه بتونیم متغیرهای کتگوریکال رو به مدل بدیم، باید اونا رو به فلوت یا اینتیجر تبدیل کنیم\n",
    "# اما اول متغیرهای مستقل و متعیر وابسته رو جدا میکنیم\n",
    "X = df.iloc[:, :-1] \n",
    "y = df.iloc[:,-1]"
   ]
  },
  {
   "cell_type": "code",
   "execution_count": null,
   "id": "fc2c9fd4",
   "metadata": {},
   "outputs": [],
   "source": [
    "col_cat"
   ]
  },
  {
   "cell_type": "code",
   "execution_count": null,
   "id": "948d21bd",
   "metadata": {},
   "outputs": [],
   "source": [
    "# Encoding and Normalization\n",
    "# انکودینگ و نرمال سازی"
   ]
  },
  {
   "cell_type": "code",
   "execution_count": null,
   "id": "e3ffcba9",
   "metadata": {},
   "outputs": [],
   "source": [
    "# ببین کار خوبی که کردیم اینه که نیومدیم یکی یکی اینکارا رو انجام بدیم\n",
    "# همه رو ریختیم توی یه لیست بهش اسم دادیم و بعد عمه رو یهویی انکینگ میکنیم\n",
    "col_cat = ['job', 'marital', 'education', 'default', 'housing', 'loan', 'contact',\n",
    "       'month', 'day_of_week', 'poutcome']"
   ]
  },
  {
   "cell_type": "code",
   "execution_count": null,
   "id": "091ce734",
   "metadata": {},
   "outputs": [],
   "source": [
    "oe = OrdinalEncoder()\n",
    "X_cat_enc = oe.fit_transform(X[col_cat])"
   ]
  },
  {
   "cell_type": "code",
   "execution_count": null,
   "id": "51250373",
   "metadata": {},
   "outputs": [],
   "source": [
    "X_cat_enc"
   ]
  },
  {
   "cell_type": "code",
   "execution_count": null,
   "id": "2ae7042e",
   "metadata": {},
   "outputs": [],
   "source": [
    "# دوباره به دیتافریم تبدیلش میکنیم\n",
    "# چرا؟\n",
    "# چون هنوز کار داریم و باید اینو بچسبونیم به دیتافریم اصلی و اگه فرمتش دیتا فریم نباشه به راحتی نمیشه این کارو انجام داد"
   ]
  },
  {
   "cell_type": "code",
   "execution_count": null,
   "id": "33e7aa56",
   "metadata": {},
   "outputs": [],
   "source": [
    "X_cat_enc = pd.DataFrame(X_cat_enc)\n",
    "X_cat_enc.columns = col_cat"
   ]
  },
  {
   "cell_type": "code",
   "execution_count": null,
   "id": "b081b4a9",
   "metadata": {},
   "outputs": [],
   "source": [
    "X_cat_enc"
   ]
  },
  {
   "cell_type": "markdown",
   "id": "f326062c",
   "metadata": {},
   "source": [
    "##### خب حالا که متغیرهای کتگوریمون رو مدیریت کردیم و دیگه کاری باهاشون نداریم\n",
    "##### دقت کنیم که چون اینا کتگوری بودن و انکودینگ شدن دیگه نیازی به اسکیلینگ،نرنمال سازی و استاندارد سازی ندارن\n",
    "## اسکیلینگ برای متغیرهای عددی و   نومریکال هتسش\n",
    "## انکودینگ برای متغیرهای دسته ای و کتگوریکال هستش"
   ]
  },
  {
   "cell_type": "code",
   "execution_count": null,
   "id": "6f4e151f",
   "metadata": {},
   "outputs": [],
   "source": [
    "df"
   ]
  },
  {
   "cell_type": "code",
   "execution_count": null,
   "id": "5382b4a5",
   "metadata": {},
   "outputs": [],
   "source": [
    "# شناسایی متغیرهای نومریکال\n",
    "col_num = df.select_dtypes([int,float]).columns"
   ]
  },
  {
   "cell_type": "code",
   "execution_count": null,
   "id": "55d6b613",
   "metadata": {},
   "outputs": [],
   "source": [
    "col_num"
   ]
  },
  {
   "cell_type": "code",
   "execution_count": null,
   "id": "75423f76",
   "metadata": {},
   "outputs": [],
   "source": [
    "# اسکیلینگ و مقیاس بندی متغیرهای عددی توسط مین_مکس"
   ]
  },
  {
   "cell_type": "code",
   "execution_count": null,
   "id": "df6d8243",
   "metadata": {},
   "outputs": [],
   "source": [
    "scaler = MinMaxScaler(feature_range=(0, 1))\n",
    "X_num_enc = scaler.fit_transform(X[col_num])"
   ]
  },
  {
   "cell_type": "code",
   "execution_count": null,
   "id": "0cbe1c66",
   "metadata": {},
   "outputs": [],
   "source": [
    "X_num_enc"
   ]
  },
  {
   "cell_type": "code",
   "execution_count": null,
   "id": "2d92bca9",
   "metadata": {},
   "outputs": [],
   "source": [
    "# تبدیل ماتریس بدست آمده به دیتافریم چون میخواهیم به دیتافریم قبلی اضافش کنیم"
   ]
  },
  {
   "cell_type": "code",
   "execution_count": null,
   "id": "827e96a1",
   "metadata": {},
   "outputs": [],
   "source": [
    "X_num_enc = pd.DataFrame(X_num_enc)\n",
    "X_num_enc.columns=col_num\n",
    "X_num_enc"
   ]
  },
  {
   "cell_type": "code",
   "execution_count": null,
   "id": "d48811be",
   "metadata": {},
   "outputs": [],
   "source": [
    "# اضاف کردن دوتا دیتا فریم قبلی که ساختیم\n",
    "x_enc = pd.concat([X_cat_enc,X_num_enc], axis=1)"
   ]
  },
  {
   "cell_type": "code",
   "execution_count": null,
   "id": "98141621",
   "metadata": {},
   "outputs": [],
   "source": [
    "x_enc"
   ]
  },
  {
   "cell_type": "code",
   "execution_count": null,
   "id": "932d1b01",
   "metadata": {},
   "outputs": [],
   "source": [
    "#  حالا   متغیر هدف یا همون متغیر وابسته ما چون کتگوریکال هست باید انکدینگ انجام بدیم\n",
    "le = LabelEncoder()\n",
    "y_enc = le.fit_transform(y)\n",
    "y_enc = pd.Series(y_enc)\n",
    "y_enc.columns = y.name"
   ]
  },
  {
   "cell_type": "code",
   "execution_count": null,
   "id": "4f33dc3f",
   "metadata": {},
   "outputs": [],
   "source": [
    "y_enc"
   ]
  },
  {
   "cell_type": "code",
   "execution_count": null,
   "id": "210db81c",
   "metadata": {},
   "outputs": [],
   "source": [
    "y"
   ]
  },
  {
   "cell_type": "code",
   "execution_count": null,
   "id": "30d73b20",
   "metadata": {},
   "outputs": [],
   "source": [
    "# همانطور که میبنیم مقدار نه به صفر و مقدار بله یه یک تغیر پیدا کرد"
   ]
  },
  {
   "attachments": {
    "image-3.png": {
     "image/png": "[encoded data removed]"
    },
    "image-4.png": {
     "image/png": "[encoded data removed]"
    }
   },
   "cell_type": "markdown",
   "id": "7f0c916e",
   "metadata": {},
   "source": [
    "## Features Selection      انتخاب ویژگی\n",
    "## Features importance   اهمیت ویژگی\n",
    "\n",
    "\n",
    "### انتخاب ویژگی\n",
    " فرآیندی است که در آن به طور خودکار یا دستی ویژگی هایی را انتخاب می کنیم که بیشترین کمک را به متغیر هدف ما دارند\n",
    " مثلا در دیتاست آیریس اگه دستی دو تا ویژگی رو انتخاب کنیم انتخاب ویژگی کردیم\n",
    "***********************************************************************************************\n",
    "![image-4.png](attachment:image-4.png)\n",
    "\n",
    "### اهمیت ویژگی\n",
    "به تکنیک‌هایی اشاره دارد که بر اساس میزان مفید بودن ویژگی‌های ورودی در پیش‌بینی متغیرهای هدف، امتیازی را به آن اختصاص می‌دهند\n",
    "مثلا در دیتاست آیریس با استفاده از مدل اهمیت ویژگی ها رو به تصویر کشیدیم\n",
    ".\n",
    "![image-3.png](attachment:image-3.png)\n",
    "\n",
    "### به طور خلاصه، امتیازی که از اهمیت ویژگی بدست میاریم، برای انجام انتخاب ویژگی استفاده می کنیم\n",
    "\n",
    "### حالا چرا این دو تا برای ما مهم هستن؟\n",
    "   ###                       نفرین ابعاد  ،curse of dimensionality : دلیل اصلی مسئله ای هستش به نام \n",
    "#### وقتی تعداد ویژگی ما در برابر تعداد ردیف ها یا مشاهداتمون زیاد بشه، همه ی مدلها کارایی ندارن و به مشکل برمیخوریم به این مسئله نفرین ابعاد میگن"
   ]
  },
  {
   "cell_type": "code",
   "execution_count": null,
   "id": "6c6a71a4",
   "metadata": {},
   "outputs": [],
   "source": [
    "# انخاب ویژگی\n",
    "# همانگونه که می دانیم همه ی ویژگی ها اهمیت و اطلاعات یکسانی برای دسته بندی ندارن،\n",
    "# بطور کلی از دو روش میتونیم برای انخاب ویژگی استفاده کنیم\n",
    "    # * Chi-Squared Statistic.\n",
    "    # * Mutual Information Statistic.\n",
    "# به هر کدام نگاهی میندازیم"
   ]
  },
  {
   "cell_type": "code",
   "execution_count": null,
   "id": "ced810c4",
   "metadata": {},
   "outputs": [],
   "source": [
    "# Chi-Squared Statistic.\n",
    "# آزمون فرضیه آماری کای_اسکوئر_پیرسون نمونه ای از آزمون استقلال بین متغیرهای طبقه بندی است \n",
    "# از نتایج این آزمون می توان برای انتخاب ویژگی استفاده کرد، که در آن ویژگیهایی که مستقل از متغیر هدف هستند را می توان از مجموعه داده حذف کرد\n",
    "\n",
    "# با استفاده از سایکیتلرن میشه کای اسکوئر رو بکار برد.\n",
    "#  میشه تعداد ویژگی مد نظر رو بدست آورد مثلا تعداد \"کا\" SelectKBest با  استفاده از تابع"
   ]
  },
  {
   "cell_type": "code",
   "execution_count": null,
   "id": "a9d5ae0c",
   "metadata": {},
   "outputs": [],
   "source": [
    "# حالا ما اینجا میخاهیم 10 تا ویژگی رو ا بین 20 ویژگی انتخاب کنیم\n",
    "bestFeatures = SelectKBest( score_func= chi2, k= 10)\n",
    "fit = bestFeatures.fit(x_enc, y_enc)\n",
    "dfscore = pd.DataFrame(fit.scores_)\n",
    "dfcolumns = pd.DataFrame(X.columns)"
   ]
  },
  {
   "cell_type": "code",
   "execution_count": null,
   "id": "5092973d",
   "metadata": {},
   "outputs": [],
   "source": [
    "featureScores = pd.concat([dfcolumns, dfscore],axis=1)\n",
    "featureScores.columns = ['Specs','Score']  #naming the dataframe columns\n",
    "print(featureScores.nlargest(10,'Score'))  #print 10 best features"
   ]
  },
  {
   "cell_type": "code",
   "execution_count": null,
   "id": "a264e7e3",
   "metadata": {},
   "outputs": [],
   "source": [
    "#Mutual Information Statistic\n",
    "# در این روش از اطلاعات مشترک بین دو متغیر استفاده میشه"
   ]
  },
  {
   "cell_type": "code",
   "execution_count": null,
   "id": "3c15ffec",
   "metadata": {},
   "outputs": [],
   "source": [
    "mu_inf = SelectKBest(score_func=mutual_info_classif, k=10)\n",
    "fit_m = mu_inf.fit(x_enc, y_enc)\n",
    "dfscore_m = pd.DataFrame(fit_m.scores_)\n",
    "dfcolumns = pd.DataFrame(X.columns)"
   ]
  },
  {
   "cell_type": "code",
   "execution_count": null,
   "id": "4a20c631",
   "metadata": {},
   "outputs": [],
   "source": [
    "featureScores_m = pd.concat([dfcolumns, dfscore_m],axis=1)\n",
    "featureScores_m.columns = ['Specs','Score']  #naming the dataframe columns\n",
    "print(featureScores_m.nlargest(10,'Score'))  #print 10 best features"
   ]
  },
  {
   "cell_type": "code",
   "execution_count": null,
   "id": "c8bd2b7d",
   "metadata": {},
   "outputs": [],
   "source": [
    "# مشاهدات\n",
    "    #* همانگونه که در بالا دیده میشه دو مدل نتایج متفاوتی رو دارن"
   ]
  },
  {
   "cell_type": "code",
   "execution_count": null,
   "id": "242ab91e",
   "metadata": {},
   "outputs": [],
   "source": [
    "# اهمیت ویژگی\n",
    "#  میتونیم اهمیت ویژگی هر یک از ویژگی های دیتافریم خودمون رو با استفاده از   مدل طبقه بندی که میخاهیم استفاده میکنیم بدست بیاریم\n",
    "# اهمیت ویژگی  امتیازی برای هر ویژگی میده، هر چه امتیاز بیشتر باشه، ویژگی نسبت به متغیر خروجی ما مهمتر و مربوطتره \n",
    "# استفاده میکنیم تا اهمیت هر ویژگی رو بدست بیاریم Extra Tree  مثلا اینجا از طبقه بند یا کلاسیفایر "
   ]
  },
  {
   "cell_type": "code",
   "execution_count": null,
   "id": "f77e3b8d",
   "metadata": {},
   "outputs": [],
   "source": [
    "# اول باید مدل رو ایجاد و بعد فیت کنیم "
   ]
  },
  {
   "cell_type": "code",
   "execution_count": null,
   "id": "a50a38aa",
   "metadata": {},
   "outputs": [],
   "source": [
    "model = ExtraTreesClassifier()\n",
    "model.fit(x_enc,y_enc)"
   ]
  },
  {
   "cell_type": "code",
   "execution_count": null,
   "id": "ec034fee",
   "metadata": {},
   "outputs": [],
   "source": [
    "# از دستور زیر استفاده میکنم تا اهمیت ویژگی ها رو ببینیم\n",
    "print(model.feature_importances_)"
   ]
  },
  {
   "cell_type": "code",
   "execution_count": null,
   "id": "745c5414",
   "metadata": {},
   "outputs": [],
   "source": [
    "feat_import = pd.Series(model.feature_importances_ , index=x_enc.columns)"
   ]
  },
  {
   "cell_type": "code",
   "execution_count": null,
   "id": "a645ad08",
   "metadata": {},
   "outputs": [],
   "source": [
    "feat_import.sort_values(ascending=False)"
   ]
  },
  {
   "cell_type": "code",
   "execution_count": null,
   "id": "f7e0c036",
   "metadata": {},
   "outputs": [],
   "source": [
    "feat_import.sort_values(ascending=False).nlargest(10).plot(kind=\"barh\")"
   ]
  },
  {
   "cell_type": "markdown",
   "id": "6fcb80b1",
   "metadata": {},
   "source": [
    "# Correlation Matrix with Heatmap\n",
    "# ماتریس همسبتگی با نمودار حرارتی"
   ]
  },
  {
   "cell_type": "markdown",
   "id": "c4cd3afb",
   "metadata": {},
   "source": [
    " ##### همبستگی بیان می کند که چگونه ویژگی ها با یکدیگر مرتبط هستند\n",
    "  ***************************************\n",
    "##### همبستگی می‌تواند مثبت باشد (افزایش یک مقدار ویژگی، مقدار متغیر دیگر را افزایش می‌دهد)\n",
    "##### یا منفی (افزایش یک مقدار ویژگی، ارزش متغیر دیگر را کاهش می‌دهد\n",
    "*************************************\n",
    "  ### نمودار هیتمپ تشخیص اینکه کدام ویژگی بیشتر به دیگری مرتبط است را آسان می‌کند.\n",
    "  "
   ]
  },
  {
   "cell_type": "code",
   "execution_count": null,
   "id": "dc7bab02",
   "metadata": {},
   "outputs": [],
   "source": [
    "corrmat = x_enc.corr()\n",
    "top_corr_features = corrmat.index"
   ]
  },
  {
   "cell_type": "code",
   "execution_count": null,
   "id": "45c85974",
   "metadata": {},
   "outputs": [],
   "source": [
    "plt.figure(figsize=(20,20))\n",
    "sns.heatmap(corrmat,annot=True,cmap=\"RdYlGn\")"
   ]
  },
  {
   "cell_type": "code",
   "execution_count": null,
   "id": "390a57b1",
   "metadata": {},
   "outputs": [],
   "source": [
    "##'euribor3m'، 'emp.var.rate'، 'nr.employed'\n",
    "## همانطور که می بینید فیلدهای بالا کاملاً با یکدیگر مرتبط هستند.\n",
    "## به این معنی که دو تا از آنها باید از محاسبه حذف شوند زیرا وابستگی های خطی بین آنها وجود دارد.\n",
    "## اگر یکی از آنها را بشناسیم می توانیم به راحتی دو مورد دیگر را محاسبه کنیم. بیایید دو تا ویژگی زیر رو حذف کنیم\n",
    "## 'emp.var.rate' و 'nr.employed'"
   ]
  },
  {
   "cell_type": "code",
   "execution_count": null,
   "id": "1f263b4b",
   "metadata": {},
   "outputs": [],
   "source": [
    "col = x_enc.columns\n",
    "col"
   ]
  },
  {
   "cell_type": "code",
   "execution_count": null,
   "id": "056e0ac3",
   "metadata": {},
   "outputs": [],
   "source": [
    "col = ['job', 'marital', 'education', 'default', 'housing', 'loan', 'contact',\n",
    "       'month', 'day_of_week', 'poutcome', 'age', 'duration', 'campaign',\n",
    "       'pdays', 'previous', 'cons.price.idx', 'cons.conf.idx',\n",
    "       'euribor3m']"
   ]
  },
  {
   "cell_type": "code",
   "execution_count": null,
   "id": "7712810f",
   "metadata": {},
   "outputs": [],
   "source": [
    "x_enc = x_enc[col]"
   ]
  },
  {
   "cell_type": "markdown",
   "id": "44cf1e6c",
   "metadata": {},
   "source": [
    "# مدلهای طبقه بندی و کلاسیفایرز"
   ]
  },
  {
   "cell_type": "code",
   "execution_count": null,
   "id": "a15fef93",
   "metadata": {},
   "outputs": [],
   "source": [
    "## اولین کاری که باید انجام بدیم تقسیم بندی داده ها به ترین و تست است"
   ]
  },
  {
   "cell_type": "code",
   "execution_count": null,
   "id": "6cbe7b40",
   "metadata": {},
   "outputs": [],
   "source": [
    "X_train, X_test, y_train, y_test = train_test_split(x_enc, y_enc, test_size=0.33 , random_state=1)\n",
    "print(\"X_train:\", X_train.shape)\n",
    "print(\"X_test:\", X_test.shape)\n",
    "print(\"y_train:\", y_train.shape)\n",
    "print(\"y_test:\", y_test.shape)"
   ]
  },
  {
   "cell_type": "markdown",
   "id": "f6412194",
   "metadata": {},
   "source": [
    "## مدل\n",
    "## Extra Trees Classifier"
   ]
  },
  {
   "cell_type": "code",
   "execution_count": null,
   "id": "ea5245df",
   "metadata": {},
   "outputs": [],
   "source": [
    "etc = ExtraTreesClassifier()\n",
    "model = etc.fit(X_train, y_train)\n",
    "y_hat = model.predict(X_test)\n",
    "acc = accuracy_score(y_test, y_hat)"
   ]
  },
  {
   "cell_type": "code",
   "execution_count": null,
   "id": "a2379e9a",
   "metadata": {},
   "outputs": [],
   "source": [
    "print('Accuracy: %.2f' % (acc*100))"
   ]
  },
  {
   "cell_type": "markdown",
   "id": "ed807ad4",
   "metadata": {},
   "source": [
    "## مدل\n",
    "## Logistic regression"
   ]
  },
  {
   "cell_type": "code",
   "execution_count": null,
   "id": "dc826d5a",
   "metadata": {},
   "outputs": [],
   "source": [
    "lr = LogisticRegression(solver='lbfgs')\n",
    "model1 = lr.fit(X_train, y_train)\n",
    "y_hat1 = model1.predict(X_test)\n",
    "acc1 = accuracy_score(y_test, y_hat1)"
   ]
  },
  {
   "cell_type": "code",
   "execution_count": null,
   "id": "f1f3c107",
   "metadata": {},
   "outputs": [],
   "source": [
    "print('Accuracy: %.2f' % (acc1*100))"
   ]
  },
  {
   "cell_type": "markdown",
   "id": "344dc5eb",
   "metadata": {},
   "source": [
    "## مدل\n",
    "## Decision tree"
   ]
  },
  {
   "cell_type": "code",
   "execution_count": null,
   "id": "731384fc",
   "metadata": {},
   "outputs": [],
   "source": [
    "dt = DecisionTreeClassifier()\n",
    "model2 = dt.fit(X_train, y_train)\n",
    "y_hat2 = model2.predict(X_test)\n",
    "acc2 = accuracy_score(y_test, y_hat2)\n",
    "print('Accuracy: %.2f' % (acc2*100))"
   ]
  },
  {
   "cell_type": "code",
   "execution_count": null,
   "id": "6631d43a",
   "metadata": {},
   "outputs": [],
   "source": [
    "print(\"Feature Importance: \", model2.feature_importances_)"
   ]
  },
  {
   "cell_type": "code",
   "execution_count": null,
   "id": "3097bde2",
   "metadata": {},
   "outputs": [],
   "source": [
    "feat_importances = pd.Series(model2.feature_importances_, index=x_enc.columns)\n",
    "feat_importances.nlargest(10).plot(kind='barh')\n",
    "plt.show()"
   ]
  },
  {
   "cell_type": "code",
   "execution_count": null,
   "id": "df02cf01",
   "metadata": {},
   "outputs": [],
   "source": [
    "# حالا بریم مدل رو بر اساس با اهمیت ترین ویژگی ها دوباره بازنویسی کنیم"
   ]
  },
  {
   "cell_type": "code",
   "execution_count": null,
   "id": "cefa0c89",
   "metadata": {},
   "outputs": [],
   "source": [
    "X_train_dt = X_train[col]\n",
    "X_test_dt = X_test[col]\n",
    "model3 = dt.fit(X_train_dt, y_train)\n",
    "y_hat_dt = model3.predict(X_test_dt)\n",
    "acc_dt = accuracy_score(y_test, y_hat_dt)\n",
    "print(\"Accuracy:%.2f\" % (acc_dt*100) )"
   ]
  },
  {
   "cell_type": "code",
   "execution_count": null,
   "id": "3e3b5a1c",
   "metadata": {},
   "outputs": [],
   "source": [
    "# مشاهدات\n",
    "# همانگونه که میبینیم نتایج مدل خیلی فرقی نکرد و کمی بدتر شد، دلیلش هم اینه ما از همه ویژگی ها استفاده نکردیم"
   ]
  },
  {
   "cell_type": "code",
   "execution_count": null,
   "id": "f4fb3bd5",
   "metadata": {},
   "outputs": [],
   "source": [
    "# مصور کردن درخت تصمیم\n",
    "# چندین راه برای این مصورسازی هست از جمله\n",
    "# Text visualization"
   ]
  },
  {
   "cell_type": "code",
   "execution_count": null,
   "id": "da5b371b",
   "metadata": {},
   "outputs": [],
   "source": [
    "text_tree = tree.export_text(model3)\n",
    "print(text_tree)"
   ]
  },
  {
   "cell_type": "code",
   "execution_count": null,
   "id": "e928d194",
   "metadata": {},
   "outputs": [],
   "source": [
    "# ذخیره کردن فایل بالا بصورت زیر"
   ]
  },
  {
   "cell_type": "code",
   "execution_count": null,
   "id": "4194abde",
   "metadata": {},
   "outputs": [],
   "source": [
    "with open(\"decision_tree.log\", \"w\") as fout:\n",
    "    fout.write(text_tree)"
   ]
  },
  {
   "cell_type": "markdown",
   "id": "7a6343ba",
   "metadata": {},
   "source": [
    "## مصورسازی درخت"
   ]
  },
  {
   "cell_type": "code",
   "execution_count": null,
   "id": "63e4a8a0",
   "metadata": {},
   "outputs": [],
   "source": [
    "# از دو دروش میتونیم درخت تصمیم رو بتصویر بکشیم\n",
    "# روش سریعتر اینه که از کتابخانه زیر استفاده کنیم\n",
    "# python-graphviz"
   ]
  },
  {
   "cell_type": "code",
   "execution_count": null,
   "id": "b4090fc0",
   "metadata": {},
   "outputs": [],
   "source": [
    "#!pip install python-graphviz"
   ]
  },
  {
   "cell_type": "code",
   "execution_count": null,
   "id": "21eb0d70",
   "metadata": {},
   "outputs": [],
   "source": [
    "import graphviz\n",
    "dot_data = tree.export_graphviz(model3,\n",
    "                               feature_names=col,\n",
    "                               class_names=y.unique(),\n",
    "                                filled=True\n",
    "                               )"
   ]
  },
  {
   "cell_type": "code",
   "execution_count": null,
   "id": "e5e270ff",
   "metadata": {},
   "outputs": [],
   "source": [
    "# بعد اینطوری به تصویر میکشیمش"
   ]
  },
  {
   "cell_type": "code",
   "execution_count": null,
   "id": "20a28cff",
   "metadata": {
    "scrolled": true
   },
   "outputs": [],
   "source": [
    "graph = graphviz.Source(dot_data, format=\"png\") \n",
    "graph"
   ]
  },
  {
   "cell_type": "code",
   "execution_count": null,
   "id": "660e857f",
   "metadata": {},
   "outputs": [],
   "source": [
    "# اینطوری توی فایل ارئه یا تحویل داده میشه"
   ]
  },
  {
   "cell_type": "code",
   "execution_count": null,
   "id": "123c8b0f",
   "metadata": {},
   "outputs": [],
   "source": [
    "graph.render(\"decision_tree_graphivz\")"
   ]
  },
  {
   "cell_type": "code",
   "execution_count": null,
   "id": "bff6f1bf",
   "metadata": {},
   "outputs": [],
   "source": []
  }
 ],
 "metadata": {
  "kernelspec": {
   "display_name": "Python 3 (ipykernel)",
   "language": "python",
   "name": "python3"
  },
  "language_info": {
   "codemirror_mode": {
    "name": "ipython",
    "version": 3
   },
   "file_extension": ".py",
   "mimetype": "text/x-python",
   "name": "python",
   "nbconvert_exporter": "python",
   "pygments_lexer": "ipython3",
   "version": "3.9.13"
  }
 },
 "nbformat": 4,
 "nbformat_minor": 5
}
